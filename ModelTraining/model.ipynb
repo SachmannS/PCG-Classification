{
 "cells": [
  {
   "cell_type": "code",
   "execution_count": 21,
   "metadata": {},
   "outputs": [],
   "source": [
    "import pandas as pd\n",
    "from tensorflow import keras\n",
    "from sklearn.model_selection import train_test_split\n",
    "from sklearn.metrics import roc_curve\n",
    "from sklearn.metrics import confusion_matrix, classification_report, ConfusionMatrixDisplay, plot_confusion_matrix\n",
    "from sklearn.metrics import auc\n",
    "from matplotlib import pyplot as plt\n",
    "import numpy as np\n",
    "import random"
   ]
  },
  {
   "cell_type": "code",
   "execution_count": 22,
   "metadata": {},
   "outputs": [],
   "source": [
    "import warnings\n",
    "warnings.filterwarnings('ignore')"
   ]
  },
  {
   "cell_type": "code",
   "execution_count": 33,
   "metadata": {},
   "outputs": [],
   "source": [
    "X_train = pd.read_csv('./training.csv')\n",
    "y_train = pd.read_csv('./testing.csv')"
   ]
  },
  {
   "cell_type": "code",
   "execution_count": 24,
   "metadata": {},
   "outputs": [
    {
     "data": {
      "text/html": [
       "<div>\n",
       "<style scoped>\n",
       "    .dataframe tbody tr th:only-of-type {\n",
       "        vertical-align: middle;\n",
       "    }\n",
       "\n",
       "    .dataframe tbody tr th {\n",
       "        vertical-align: top;\n",
       "    }\n",
       "\n",
       "    .dataframe thead th {\n",
       "        text-align: right;\n",
       "    }\n",
       "</style>\n",
       "<table border=\"1\" class=\"dataframe\">\n",
       "  <thead>\n",
       "    <tr style=\"text-align: right;\">\n",
       "      <th></th>\n",
       "      <th>Sample</th>\n",
       "      <th>mfcc1</th>\n",
       "      <th>mfcc2</th>\n",
       "      <th>mfcc3</th>\n",
       "      <th>mfcc4</th>\n",
       "      <th>mfcc5</th>\n",
       "      <th>mfcc6</th>\n",
       "      <th>mfcc7</th>\n",
       "      <th>mfcc8</th>\n",
       "      <th>mfcc9</th>\n",
       "      <th>...</th>\n",
       "      <th>percussiv8</th>\n",
       "      <th>harmonic9</th>\n",
       "      <th>percussiv9</th>\n",
       "      <th>harmonic10</th>\n",
       "      <th>percussiv10</th>\n",
       "      <th>harmonic11</th>\n",
       "      <th>percussiv11</th>\n",
       "      <th>harmonic12</th>\n",
       "      <th>percussiv12</th>\n",
       "      <th>class</th>\n",
       "    </tr>\n",
       "  </thead>\n",
       "  <tbody>\n",
       "    <tr>\n",
       "      <th>0</th>\n",
       "      <td>a0001.wav</td>\n",
       "      <td>-790.88150</td>\n",
       "      <td>35.346480</td>\n",
       "      <td>29.868963</td>\n",
       "      <td>22.915094</td>\n",
       "      <td>16.704622</td>\n",
       "      <td>12.799420</td>\n",
       "      <td>11.525692</td>\n",
       "      <td>12.023934</td>\n",
       "      <td>12.846399</td>\n",
       "      <td>...</td>\n",
       "      <td>0.600185</td>\n",
       "      <td>0.738516</td>\n",
       "      <td>0.647035</td>\n",
       "      <td>0.711224</td>\n",
       "      <td>0.605806</td>\n",
       "      <td>0.602629</td>\n",
       "      <td>0.563089</td>\n",
       "      <td>0.596157</td>\n",
       "      <td>0.481607</td>\n",
       "      <td>1</td>\n",
       "    </tr>\n",
       "    <tr>\n",
       "      <th>1</th>\n",
       "      <td>a0001.wav</td>\n",
       "      <td>-800.17773</td>\n",
       "      <td>36.829205</td>\n",
       "      <td>32.262160</td>\n",
       "      <td>26.007862</td>\n",
       "      <td>19.561516</td>\n",
       "      <td>14.184357</td>\n",
       "      <td>10.528907</td>\n",
       "      <td>8.553568</td>\n",
       "      <td>7.722000</td>\n",
       "      <td>...</td>\n",
       "      <td>0.654648</td>\n",
       "      <td>0.585089</td>\n",
       "      <td>0.675702</td>\n",
       "      <td>0.648892</td>\n",
       "      <td>0.674852</td>\n",
       "      <td>0.470988</td>\n",
       "      <td>0.600697</td>\n",
       "      <td>0.441939</td>\n",
       "      <td>0.560367</td>\n",
       "      <td>1</td>\n",
       "    </tr>\n",
       "    <tr>\n",
       "      <th>2</th>\n",
       "      <td>a0001.wav</td>\n",
       "      <td>-785.04065</td>\n",
       "      <td>38.343674</td>\n",
       "      <td>35.874480</td>\n",
       "      <td>32.087100</td>\n",
       "      <td>27.407870</td>\n",
       "      <td>22.322060</td>\n",
       "      <td>17.299654</td>\n",
       "      <td>12.736375</td>\n",
       "      <td>8.917072</td>\n",
       "      <td>...</td>\n",
       "      <td>0.562948</td>\n",
       "      <td>0.735803</td>\n",
       "      <td>0.557726</td>\n",
       "      <td>0.708788</td>\n",
       "      <td>0.564459</td>\n",
       "      <td>0.633074</td>\n",
       "      <td>0.593979</td>\n",
       "      <td>0.644294</td>\n",
       "      <td>0.666489</td>\n",
       "      <td>1</td>\n",
       "    </tr>\n",
       "    <tr>\n",
       "      <th>3</th>\n",
       "      <td>a0001.wav</td>\n",
       "      <td>-797.87540</td>\n",
       "      <td>22.834503</td>\n",
       "      <td>21.257290</td>\n",
       "      <td>18.933811</td>\n",
       "      <td>16.241505</td>\n",
       "      <td>13.572474</td>\n",
       "      <td>11.246131</td>\n",
       "      <td>9.448731</td>\n",
       "      <td>8.214036</td>\n",
       "      <td>...</td>\n",
       "      <td>0.645016</td>\n",
       "      <td>0.583281</td>\n",
       "      <td>0.622745</td>\n",
       "      <td>0.599158</td>\n",
       "      <td>0.607597</td>\n",
       "      <td>0.564188</td>\n",
       "      <td>0.614927</td>\n",
       "      <td>0.578935</td>\n",
       "      <td>0.678930</td>\n",
       "      <td>1</td>\n",
       "    </tr>\n",
       "    <tr>\n",
       "      <th>4</th>\n",
       "      <td>a0001.wav</td>\n",
       "      <td>-810.88830</td>\n",
       "      <td>20.403090</td>\n",
       "      <td>19.041300</td>\n",
       "      <td>17.012943</td>\n",
       "      <td>14.621115</td>\n",
       "      <td>12.189124</td>\n",
       "      <td>9.993263</td>\n",
       "      <td>8.212915</td>\n",
       "      <td>6.909382</td>\n",
       "      <td>...</td>\n",
       "      <td>0.574938</td>\n",
       "      <td>0.315265</td>\n",
       "      <td>0.527949</td>\n",
       "      <td>0.298029</td>\n",
       "      <td>0.498804</td>\n",
       "      <td>0.264558</td>\n",
       "      <td>0.567844</td>\n",
       "      <td>0.265852</td>\n",
       "      <td>0.601594</td>\n",
       "      <td>1</td>\n",
       "    </tr>\n",
       "  </tbody>\n",
       "</table>\n",
       "<p>5 rows × 70 columns</p>\n",
       "</div>"
      ],
      "text/plain": [
       "      Sample      mfcc1      mfcc2      mfcc3      mfcc4      mfcc5  \\\n",
       "0  a0001.wav -790.88150  35.346480  29.868963  22.915094  16.704622   \n",
       "1  a0001.wav -800.17773  36.829205  32.262160  26.007862  19.561516   \n",
       "2  a0001.wav -785.04065  38.343674  35.874480  32.087100  27.407870   \n",
       "3  a0001.wav -797.87540  22.834503  21.257290  18.933811  16.241505   \n",
       "4  a0001.wav -810.88830  20.403090  19.041300  17.012943  14.621115   \n",
       "\n",
       "       mfcc6      mfcc7      mfcc8      mfcc9  ...  percussiv8  harmonic9  \\\n",
       "0  12.799420  11.525692  12.023934  12.846399  ...    0.600185   0.738516   \n",
       "1  14.184357  10.528907   8.553568   7.722000  ...    0.654648   0.585089   \n",
       "2  22.322060  17.299654  12.736375   8.917072  ...    0.562948   0.735803   \n",
       "3  13.572474  11.246131   9.448731   8.214036  ...    0.645016   0.583281   \n",
       "4  12.189124   9.993263   8.212915   6.909382  ...    0.574938   0.315265   \n",
       "\n",
       "   percussiv9  harmonic10  percussiv10  harmonic11  percussiv11  harmonic12  \\\n",
       "0    0.647035    0.711224     0.605806    0.602629     0.563089    0.596157   \n",
       "1    0.675702    0.648892     0.674852    0.470988     0.600697    0.441939   \n",
       "2    0.557726    0.708788     0.564459    0.633074     0.593979    0.644294   \n",
       "3    0.622745    0.599158     0.607597    0.564188     0.614927    0.578935   \n",
       "4    0.527949    0.298029     0.498804    0.264558     0.567844    0.265852   \n",
       "\n",
       "   percussiv12  class  \n",
       "0     0.481607      1  \n",
       "1     0.560367      1  \n",
       "2     0.666489      1  \n",
       "3     0.678930      1  \n",
       "4     0.601594      1  \n",
       "\n",
       "[5 rows x 70 columns]"
      ]
     },
     "execution_count": 24,
     "metadata": {},
     "output_type": "execute_result"
    }
   ],
   "source": [
    "X_train.head()"
   ]
  },
  {
   "cell_type": "code",
   "execution_count": 34,
   "metadata": {},
   "outputs": [
    {
     "name": "stdout",
     "output_type": "stream",
     "text": [
      "['harmonic1', 'harmonic2', 'harmonic3', 'harmonic4', 'harmonic5', 'harmonic6', 'harmonic7', 'harmonic8', 'harmonic9', 'harmonic10', 'harmonic11', 'harmonic12']\n"
     ]
    }
   ],
   "source": [
    "list_to_drop = [f'harmonic{i}' for i in range(1,13)]\n",
    "print(list_to_drop)"
   ]
  },
  {
   "cell_type": "code",
   "execution_count": 35,
   "metadata": {},
   "outputs": [],
   "source": [
    "X_train.drop(list_to_drop, axis = 1, inplace=True)\n",
    "y_train.drop(list_to_drop, axis = 1 , inplace=True)"
   ]
  },
  {
   "cell_type": "code",
   "execution_count": 36,
   "metadata": {},
   "outputs": [],
   "source": [
    "X_test = X_train['class']\n",
    "y_test = y_train['class']\n",
    "X_train = X_train.drop(['class' , 'Sample'] , axis = 1)\n",
    "y_train = y_train.drop(['class' , 'Sample'] , axis = 1)"
   ]
  },
  {
   "cell_type": "code",
   "execution_count": 37,
   "metadata": {},
   "outputs": [
    {
     "data": {
      "text/html": [
       "<div>\n",
       "<style scoped>\n",
       "    .dataframe tbody tr th:only-of-type {\n",
       "        vertical-align: middle;\n",
       "    }\n",
       "\n",
       "    .dataframe tbody tr th {\n",
       "        vertical-align: top;\n",
       "    }\n",
       "\n",
       "    .dataframe thead th {\n",
       "        text-align: right;\n",
       "    }\n",
       "</style>\n",
       "<table border=\"1\" class=\"dataframe\">\n",
       "  <thead>\n",
       "    <tr style=\"text-align: right;\">\n",
       "      <th></th>\n",
       "      <th>mfcc1</th>\n",
       "      <th>mfcc2</th>\n",
       "      <th>mfcc3</th>\n",
       "      <th>mfcc4</th>\n",
       "      <th>mfcc5</th>\n",
       "      <th>mfcc6</th>\n",
       "      <th>mfcc7</th>\n",
       "      <th>mfcc8</th>\n",
       "      <th>mfcc9</th>\n",
       "      <th>mfcc10</th>\n",
       "      <th>...</th>\n",
       "      <th>percussiv3</th>\n",
       "      <th>percussiv4</th>\n",
       "      <th>percussiv5</th>\n",
       "      <th>percussiv6</th>\n",
       "      <th>percussiv7</th>\n",
       "      <th>percussiv8</th>\n",
       "      <th>percussiv9</th>\n",
       "      <th>percussiv10</th>\n",
       "      <th>percussiv11</th>\n",
       "      <th>percussiv12</th>\n",
       "    </tr>\n",
       "  </thead>\n",
       "  <tbody>\n",
       "    <tr>\n",
       "      <th>0</th>\n",
       "      <td>-790.88150</td>\n",
       "      <td>35.346480</td>\n",
       "      <td>29.868963</td>\n",
       "      <td>22.915094</td>\n",
       "      <td>16.704622</td>\n",
       "      <td>12.799420</td>\n",
       "      <td>11.525692</td>\n",
       "      <td>12.023934</td>\n",
       "      <td>12.846399</td>\n",
       "      <td>12.752587</td>\n",
       "      <td>...</td>\n",
       "      <td>0.521811</td>\n",
       "      <td>0.584468</td>\n",
       "      <td>0.611693</td>\n",
       "      <td>0.602053</td>\n",
       "      <td>0.574912</td>\n",
       "      <td>0.600185</td>\n",
       "      <td>0.647035</td>\n",
       "      <td>0.605806</td>\n",
       "      <td>0.563089</td>\n",
       "      <td>0.481607</td>\n",
       "    </tr>\n",
       "    <tr>\n",
       "      <th>1</th>\n",
       "      <td>-800.17773</td>\n",
       "      <td>36.829205</td>\n",
       "      <td>32.262160</td>\n",
       "      <td>26.007862</td>\n",
       "      <td>19.561516</td>\n",
       "      <td>14.184357</td>\n",
       "      <td>10.528907</td>\n",
       "      <td>8.553568</td>\n",
       "      <td>7.722000</td>\n",
       "      <td>7.354673</td>\n",
       "      <td>...</td>\n",
       "      <td>0.607714</td>\n",
       "      <td>0.570372</td>\n",
       "      <td>0.586046</td>\n",
       "      <td>0.592034</td>\n",
       "      <td>0.604351</td>\n",
       "      <td>0.654648</td>\n",
       "      <td>0.675702</td>\n",
       "      <td>0.674852</td>\n",
       "      <td>0.600697</td>\n",
       "      <td>0.560367</td>\n",
       "    </tr>\n",
       "    <tr>\n",
       "      <th>2</th>\n",
       "      <td>-785.04065</td>\n",
       "      <td>38.343674</td>\n",
       "      <td>35.874480</td>\n",
       "      <td>32.087100</td>\n",
       "      <td>27.407870</td>\n",
       "      <td>22.322060</td>\n",
       "      <td>17.299654</td>\n",
       "      <td>12.736375</td>\n",
       "      <td>8.917072</td>\n",
       "      <td>6.000667</td>\n",
       "      <td>...</td>\n",
       "      <td>0.812101</td>\n",
       "      <td>0.762499</td>\n",
       "      <td>0.722133</td>\n",
       "      <td>0.640476</td>\n",
       "      <td>0.561324</td>\n",
       "      <td>0.562948</td>\n",
       "      <td>0.557726</td>\n",
       "      <td>0.564459</td>\n",
       "      <td>0.593979</td>\n",
       "      <td>0.666489</td>\n",
       "    </tr>\n",
       "    <tr>\n",
       "      <th>3</th>\n",
       "      <td>-797.87540</td>\n",
       "      <td>22.834503</td>\n",
       "      <td>21.257290</td>\n",
       "      <td>18.933811</td>\n",
       "      <td>16.241505</td>\n",
       "      <td>13.572474</td>\n",
       "      <td>11.246131</td>\n",
       "      <td>9.448731</td>\n",
       "      <td>8.214036</td>\n",
       "      <td>7.445949</td>\n",
       "      <td>...</td>\n",
       "      <td>0.623005</td>\n",
       "      <td>0.671953</td>\n",
       "      <td>0.637164</td>\n",
       "      <td>0.639442</td>\n",
       "      <td>0.643310</td>\n",
       "      <td>0.645016</td>\n",
       "      <td>0.622745</td>\n",
       "      <td>0.607597</td>\n",
       "      <td>0.614927</td>\n",
       "      <td>0.678930</td>\n",
       "    </tr>\n",
       "    <tr>\n",
       "      <th>4</th>\n",
       "      <td>-810.88830</td>\n",
       "      <td>20.403090</td>\n",
       "      <td>19.041300</td>\n",
       "      <td>17.012943</td>\n",
       "      <td>14.621115</td>\n",
       "      <td>12.189124</td>\n",
       "      <td>9.993263</td>\n",
       "      <td>8.212915</td>\n",
       "      <td>6.909382</td>\n",
       "      <td>6.035825</td>\n",
       "      <td>...</td>\n",
       "      <td>0.598374</td>\n",
       "      <td>0.579964</td>\n",
       "      <td>0.691152</td>\n",
       "      <td>0.572365</td>\n",
       "      <td>0.543006</td>\n",
       "      <td>0.574938</td>\n",
       "      <td>0.527949</td>\n",
       "      <td>0.498804</td>\n",
       "      <td>0.567844</td>\n",
       "      <td>0.601594</td>\n",
       "    </tr>\n",
       "  </tbody>\n",
       "</table>\n",
       "<p>5 rows × 56 columns</p>\n",
       "</div>"
      ],
      "text/plain": [
       "       mfcc1      mfcc2      mfcc3      mfcc4      mfcc5      mfcc6  \\\n",
       "0 -790.88150  35.346480  29.868963  22.915094  16.704622  12.799420   \n",
       "1 -800.17773  36.829205  32.262160  26.007862  19.561516  14.184357   \n",
       "2 -785.04065  38.343674  35.874480  32.087100  27.407870  22.322060   \n",
       "3 -797.87540  22.834503  21.257290  18.933811  16.241505  13.572474   \n",
       "4 -810.88830  20.403090  19.041300  17.012943  14.621115  12.189124   \n",
       "\n",
       "       mfcc7      mfcc8      mfcc9     mfcc10  ...  percussiv3  percussiv4  \\\n",
       "0  11.525692  12.023934  12.846399  12.752587  ...    0.521811    0.584468   \n",
       "1  10.528907   8.553568   7.722000   7.354673  ...    0.607714    0.570372   \n",
       "2  17.299654  12.736375   8.917072   6.000667  ...    0.812101    0.762499   \n",
       "3  11.246131   9.448731   8.214036   7.445949  ...    0.623005    0.671953   \n",
       "4   9.993263   8.212915   6.909382   6.035825  ...    0.598374    0.579964   \n",
       "\n",
       "   percussiv5  percussiv6  percussiv7  percussiv8  percussiv9  percussiv10  \\\n",
       "0    0.611693    0.602053    0.574912    0.600185    0.647035     0.605806   \n",
       "1    0.586046    0.592034    0.604351    0.654648    0.675702     0.674852   \n",
       "2    0.722133    0.640476    0.561324    0.562948    0.557726     0.564459   \n",
       "3    0.637164    0.639442    0.643310    0.645016    0.622745     0.607597   \n",
       "4    0.691152    0.572365    0.543006    0.574938    0.527949     0.498804   \n",
       "\n",
       "   percussiv11  percussiv12  \n",
       "0     0.563089     0.481607  \n",
       "1     0.600697     0.560367  \n",
       "2     0.593979     0.666489  \n",
       "3     0.614927     0.678930  \n",
       "4     0.567844     0.601594  \n",
       "\n",
       "[5 rows x 56 columns]"
      ]
     },
     "execution_count": 37,
     "metadata": {},
     "output_type": "execute_result"
    }
   ],
   "source": [
    "X_train.head(5)"
   ]
  },
  {
   "cell_type": "code",
   "execution_count": 29,
   "metadata": {},
   "outputs": [],
   "source": [
    "X_train = X_train.iloc[ : , 44 : ]\n",
    "y_train = y_train.iloc[ : , 44 : ]"
   ]
  },
  {
   "cell_type": "code",
   "execution_count": 38,
   "metadata": {},
   "outputs": [],
   "source": [
    "from sklearn.preprocessing import MinMaxScaler\n",
    "scaler = MinMaxScaler()\n",
    "X_train = scaler.fit_transform(X_train)\n",
    "y_train = scaler.fit_transform(y_train)"
   ]
  },
  {
   "cell_type": "code",
   "execution_count": 39,
   "metadata": {},
   "outputs": [],
   "source": [
    "model = keras.models.Sequential([\n",
    "    keras.layers.Flatten(input_shape = [56]),\n",
    "    keras.layers.Dense(units = 150 , activation = 'relu'),#, kernel_initializer = keras.initializers.GlorotNormal()), #, kernel_regularizer = keras.regularizers.l2(0.03)),\n",
    "    keras.layers.Dense(units = 200 , activation = keras.layers.LeakyReLU()),# , kernel_initializer = keras.initializers.GlorotNormal()),# , kernel_regularizer = keras.regularizers.l2(0.02)),\n",
    "    keras.layers.Dense(units = 250 , activation = keras.layers.LeakyReLU()),#, kernel_initializer = keras.initializers.GlorotNormal()),# , kernel_regularizer = keras.regularizers.l2(0.05)),\n",
    "    keras.layers.Dense(units = 250 , activation = keras.layers.LeakyReLU()),#, kernel_initializer = keras.initializers.GlorotNormal()),\n",
    "    keras.layers.Dense(units = 1 , activation = 'sigmoid')#, kernel_initializer = keras.initializers.random_normal())\n",
    "])"
   ]
  },
  {
   "cell_type": "code",
   "execution_count": 12,
   "metadata": {},
   "outputs": [],
   "source": [
    "stop_early =  keras.callbacks.EarlyStopping(monitor = 'val_loss' , patience=10 , min_delta=0.01);"
   ]
  },
  {
   "cell_type": "code",
   "execution_count": 40,
   "metadata": {},
   "outputs": [],
   "source": [
    "model.compile(loss=keras.losses.BinaryCrossentropy(from_logits=False), optimizer = 'Nadam', metrics = ['accuracy'] )"
   ]
  },
  {
   "cell_type": "code",
   "execution_count": 41,
   "metadata": {},
   "outputs": [
    {
     "name": "stdout",
     "output_type": "stream",
     "text": [
      "Epoch 1/250\n",
      "1341/1341 [==============================] - 11s 6ms/step - loss: 0.3210 - accuracy: 0.8483 - val_loss: 0.5070 - val_accuracy: 0.7900\n",
      "Epoch 2/250\n",
      "1341/1341 [==============================] - 7s 5ms/step - loss: 0.2816 - accuracy: 0.8704 - val_loss: 0.4628 - val_accuracy: 0.6991\n",
      "Epoch 3/250\n",
      "1341/1341 [==============================] - 7s 5ms/step - loss: 0.2736 - accuracy: 0.8741 - val_loss: 0.4561 - val_accuracy: 0.6935\n",
      "Epoch 4/250\n",
      "1341/1341 [==============================] - 7s 5ms/step - loss: 0.2687 - accuracy: 0.8778 - val_loss: 0.4635 - val_accuracy: 0.7379\n",
      "Epoch 5/250\n",
      "1341/1341 [==============================] - 7s 5ms/step - loss: 0.2644 - accuracy: 0.8796 - val_loss: 0.4336 - val_accuracy: 0.7440\n",
      "Epoch 6/250\n",
      "1341/1341 [==============================] - 8s 6ms/step - loss: 0.2627 - accuracy: 0.8804 - val_loss: 0.4681 - val_accuracy: 0.7337\n",
      "Epoch 7/250\n",
      "1341/1341 [==============================] - 7s 6ms/step - loss: 0.2599 - accuracy: 0.8816 - val_loss: 0.4266 - val_accuracy: 0.7640\n",
      "Epoch 8/250\n",
      "1341/1341 [==============================] - 7s 5ms/step - loss: 0.2572 - accuracy: 0.8829 - val_loss: 0.4407 - val_accuracy: 0.7291\n",
      "Epoch 9/250\n",
      "1341/1341 [==============================] - 7s 5ms/step - loss: 0.2565 - accuracy: 0.8842 - val_loss: 0.4171 - val_accuracy: 0.7696\n",
      "Epoch 10/250\n",
      "1341/1341 [==============================] - 7s 5ms/step - loss: 0.2549 - accuracy: 0.8860 - val_loss: 0.4234 - val_accuracy: 0.7488\n",
      "Epoch 11/250\n",
      "1341/1341 [==============================] - 7s 5ms/step - loss: 0.2528 - accuracy: 0.8842 - val_loss: 0.4116 - val_accuracy: 0.7583\n",
      "Epoch 12/250\n",
      "1341/1341 [==============================] - 7s 5ms/step - loss: 0.2507 - accuracy: 0.8866 - val_loss: 0.3889 - val_accuracy: 0.7919\n",
      "Epoch 13/250\n",
      "1341/1341 [==============================] - 7s 5ms/step - loss: 0.2492 - accuracy: 0.8870 - val_loss: 0.4363 - val_accuracy: 0.7430\n",
      "Epoch 14/250\n",
      "1341/1341 [==============================] - 7s 5ms/step - loss: 0.2481 - accuracy: 0.8876 - val_loss: 0.4436 - val_accuracy: 0.7512\n",
      "Epoch 15/250\n",
      "1341/1341 [==============================] - 8s 6ms/step - loss: 0.2487 - accuracy: 0.8884 - val_loss: 0.3986 - val_accuracy: 0.7866\n",
      "Epoch 16/250\n",
      "1341/1341 [==============================] - 7s 5ms/step - loss: 0.2476 - accuracy: 0.8875 - val_loss: 0.4187 - val_accuracy: 0.7681\n",
      "Epoch 17/250\n",
      "1341/1341 [==============================] - 7s 5ms/step - loss: 0.2449 - accuracy: 0.8888 - val_loss: 0.3907 - val_accuracy: 0.7942\n",
      "Epoch 18/250\n",
      "1341/1341 [==============================] - 7s 5ms/step - loss: 0.2440 - accuracy: 0.8890 - val_loss: 0.3945 - val_accuracy: 0.7887\n",
      "Epoch 19/250\n",
      "1341/1341 [==============================] - 7s 5ms/step - loss: 0.2448 - accuracy: 0.8881 - val_loss: 0.4738 - val_accuracy: 0.7392\n",
      "Epoch 20/250\n",
      "1341/1341 [==============================] - 7s 5ms/step - loss: 0.2417 - accuracy: 0.8907 - val_loss: 0.4275 - val_accuracy: 0.7423\n",
      "Epoch 21/250\n",
      "1341/1341 [==============================] - 7s 5ms/step - loss: 0.2412 - accuracy: 0.8916 - val_loss: 0.4139 - val_accuracy: 0.7858\n",
      "Epoch 22/250\n",
      "1341/1341 [==============================] - 7s 5ms/step - loss: 0.2396 - accuracy: 0.8917 - val_loss: 0.4283 - val_accuracy: 0.7956\n"
     ]
    }
   ],
   "source": [
    "history = model.fit(X_train , X_test, epochs = 250, validation_split = 0.1 , callbacks = [stop_early])"
   ]
  },
  {
   "cell_type": "code",
   "execution_count": 42,
   "metadata": {},
   "outputs": [
    {
     "name": "stdout",
     "output_type": "stream",
     "text": [
      "639/639 [==============================] - 2s 3ms/step\n",
      "[0.81 0.75 0.8  ... 0.1  0.02 0.18]\n",
      "[1 1 1 ... 0 0 0]\n",
      "[[14380   746]\n",
      " [ 2886  2433]]\n",
      "              precision    recall  f1-score   support\n",
      "\n",
      "           0       0.83      0.95      0.89     15126\n",
      "           1       0.77      0.46      0.57      5319\n",
      "\n",
      "    accuracy                           0.82     20445\n",
      "   macro avg       0.80      0.70      0.73     20445\n",
      "weighted avg       0.82      0.82      0.81     20445\n",
      "\n"
     ]
    },
    {
     "data": {
      "image/png": "[encoded data removed]",
      "text/plain": [
       "<Figure size 640x480 with 2 Axes>"
      ]
     },
     "metadata": {},
     "output_type": "display_data"
    },
    {
     "data": {
      "image/png": "[encoded data removed]",
      "text/plain": [
       "<Figure size 640x480 with 1 Axes>"
      ]
     },
     "metadata": {},
     "output_type": "display_data"
    }
   ],
   "source": [
    "y_pred_keras = model.predict(y_train).ravel()\n",
    "fpr_keras, tpr_keras, thresholds_keras = roc_curve(y_test, y_pred_keras)\n",
    "y_pred_keras = y_pred_keras.flatten()\n",
    "print(y_pred_keras.round(2))\n",
    "y_pred = np.where(y_pred_keras > 0.5, 1, 0)\n",
    "print(y_pred)\n",
    "cm=confusion_matrix(y_test, y_pred)\n",
    "print(cm)\n",
    "print(classification_report(y_test, y_pred))\n",
    "labels = [\"Normal\", \"Abnormal\"]\n",
    "disp = ConfusionMatrixDisplay(confusion_matrix=cm, display_labels=labels)\n",
    "disp.plot(cmap=plt.cm.Blues)\n",
    "plt.show()\n",
    "auc_keras = auc(fpr_keras, tpr_keras)\n",
    "plt.figure(1)\n",
    "plt.plot([0, 1], [0, 1], 'k--')\n",
    "plt.plot(fpr_keras, tpr_keras, label='PCG Classification (area = {:.3f})'.format(auc_keras))\n",
    "plt.xlabel('False positive rate')\n",
    "plt.ylabel('True positive rate')\n",
    "plt.title('ROC curve')\n",
    "plt.legend(loc='best')\n",
    "plt.show()"
   ]
  },
  {
   "cell_type": "code",
   "execution_count": 16,
   "metadata": {},
   "outputs": [
    {
     "name": "stderr",
     "output_type": "stream",
     "text": [
      "WARNING:absl:Found untraced functions such as leaky_re_lu_layer_call_fn, leaky_re_lu_layer_call_and_return_conditional_losses, leaky_re_lu_1_layer_call_fn, leaky_re_lu_1_layer_call_and_return_conditional_losses, leaky_re_lu_2_layer_call_fn while saving (showing 5 of 6). These functions will not be directly callable after loading.\n"
     ]
    },
    {
     "name": "stdout",
     "output_type": "stream",
     "text": [
      "INFO:tensorflow:Assets written to: ram://1a96c16d-ed2c-4739-8898-5ff33e33c595/assets\n"
     ]
    },
    {
     "name": "stderr",
     "output_type": "stream",
     "text": [
      "INFO:tensorflow:Assets written to: ram://1a96c16d-ed2c-4739-8898-5ff33e33c595/assets\n"
     ]
    }
   ],
   "source": [
    "import pickle\n",
    "file = open('./Model 7/model.pkl' , 'wb')\n",
    "pickle.dump(model , file)\n",
    "file.close()"
   ]
  },
  {
   "cell_type": "code",
   "execution_count": 13,
   "metadata": {},
   "outputs": [],
   "source": [
    "a = int('012')"
   ]
  },
  {
   "cell_type": "code",
   "execution_count": 14,
   "metadata": {},
   "outputs": [
    {
     "data": {
      "text/plain": [
       "12"
      ]
     },
     "execution_count": 14,
     "metadata": {},
     "output_type": "execute_result"
    }
   ],
   "source": [
    "a\n"
   ]
  },
  {
   "cell_type": "code",
   "execution_count": 15,
   "metadata": {},
   "outputs": [
    {
     "data": {
      "text/plain": [
       "int"
      ]
     },
     "execution_count": 15,
     "metadata": {},
     "output_type": "execute_result"
    }
   ],
   "source": [
    "type(a)"
   ]
  },
  {
   "cell_type": "code",
   "execution_count": null,
   "metadata": {},
   "outputs": [],
   "source": []
  }
 ],
 "metadata": {
  "kernelspec": {
   "display_name": "Work",
   "language": "python",
   "name": "python3"
  },
  "language_info": {
   "codemirror_mode": {
    "name": "ipython",
    "version": 3
   },
   "file_extension": ".py",
   "mimetype": "text/x-python",
   "name": "python",
   "nbconvert_exporter": "python",
   "pygments_lexer": "ipython3",
   "version": "3.10.8 (tags/v3.10.8:aaaf517, Oct 11 2022, 16:50:30) [MSC v.1933 64 bit (AMD64)]"
  },
  "orig_nbformat": 4,
  "vscode": {
   "interpreter": {
    "hash": "6a52940d0a9b5e622512011e58686428140e3ed2fe0e3361038b9a81a619c6d4"
   }
  }
 },
 "nbformat": 4,
 "nbformat_minor": 2
}
