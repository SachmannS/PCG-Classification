{
 "cells": [
  {
   "cell_type": "code",
   "execution_count": 1,
   "metadata": {},
   "outputs": [],
   "source": [
    "import pandas as pd;\n",
    "import librosa as lb;\n",
    "import numpy as np;\n",
    "import os;\n",
    "import math\n",
    "import seaborn as sb"
   ]
  },
  {
   "cell_type": "code",
   "execution_count": 26,
   "metadata": {},
   "outputs": [],
   "source": [
    "folder_serial = 'f';\n",
    "folder_path = fr'../02_Data Cleaning/Dataset_ready/training-{folder_serial}';\n",
    "list_of_files = os.listdir(folder_path);\n",
    "list_of_files = [sound_files for sound_files in list_of_files if '.wav' in sound_files];\n",
    "reference_file = fr'../01_Dataset Exploration/Dataset/training-{folder_serial}/REFERENCE.csv';\n",
    "reference = pd.read_csv(reference_file);"
   ]
  },
  {
   "cell_type": "code",
   "execution_count": 27,
   "metadata": {},
   "outputs": [
    {
     "name": "stdout",
     "output_type": "stream",
     "text": [
      "f0001.wav f0002.wav f0003.wav f0004.wav f0005.wav f0006.wav f0007.wav f0008.wav f0009.wav f0010.wav f0011.wav f0012.wav f0013.wav f0014.wav f0015.wav f0016.wav f0017.wav f0018.wav f0019.wav f0020.wav f0021.wav f0022.wav f0023.wav f0024.wav f0025.wav f0026.wav f0027.wav f0028.wav f0029.wav f0030.wav f0031.wav f0032.wav f0033.wav f0034.wav f0035.wav f0036.wav f0037.wav f0038.wav f0039.wav f0040.wav f0041.wav f0042.wav f0043.wav f0044.wav f0045.wav f0046.wav f0047.wav f0048.wav f0049.wav f0050.wav f0051.wav f0052.wav f0053.wav f0054.wav f0055.wav f0056.wav f0057.wav f0058.wav f0059.wav f0060.wav f0061.wav f0062.wav f0063.wav f0064.wav f0065.wav f0066.wav f0067.wav f0068.wav f0069.wav f0070.wav f0071.wav f0072.wav f0073.wav f0074.wav f0075.wav f0076.wav f0077.wav f0078.wav f0079.wav f0080.wav f0081.wav f0082.wav f0083.wav f0084.wav f0085.wav f0086.wav f0087.wav f0088.wav f0089.wav f0090.wav f0091.wav f0092.wav f0093.wav f0094.wav f0095.wav f0096.wav f0097.wav f0098.wav f0099.wav f0100.wav f0101.wav f0102.wav f0103.wav f0104.wav f0105.wav f0106.wav f0107.wav f0108.wav f0109.wav f0110.wav f0111.wav f0112.wav f0113.wav f0114.wav "
     ]
    }
   ],
   "source": [
    "extracted_features_list = [];\n",
    "nmfcc = 44\n",
    "for x in range(len(list_of_files)):\n",
    "    soundtrack = list_of_files[x];\n",
    "    path = rf'../02_Data Cleaning/Dataset_ready/training-{folder_serial}/{soundtrack}';\n",
    "    y , sr = lb.load(path);\n",
    "    time = lb.get_duration(y = y , sr = sr);\n",
    "    time = math.floor(time);\n",
    "    for z in range(time-1):\n",
    "        y1 , sr1 = lb.load(path , offset = z+1, duration = 1)\n",
    "        mfcc_coef = lb.feature.mfcc(y = y1 , sr = sr1, n_mfcc = nmfcc);\n",
    "        mfcc_scaled_features = np.mean(mfcc_coef.T, axis = 0)\n",
    "        extracted_features_list.append([mfcc_scaled_features , reference.iloc[x , 1]])\n",
    "    print(soundtrack, end = \" \")"
   ]
  },
  {
   "cell_type": "code",
   "execution_count": 28,
   "metadata": {},
   "outputs": [
    {
     "data": {
      "text/plain": [
       "(44,)"
      ]
     },
     "execution_count": 28,
     "metadata": {},
     "output_type": "execute_result"
    }
   ],
   "source": [
    "extracted_features_list[0][0].shape"
   ]
  },
  {
   "cell_type": "code",
   "execution_count": 29,
   "metadata": {},
   "outputs": [],
   "source": [
    "copy = extracted_features_list"
   ]
  },
  {
   "cell_type": "code",
   "execution_count": 61,
   "metadata": {},
   "outputs": [
    {
     "data": {
      "text/plain": [
       "array([-681.89197  ,   47.229015 ,   37.6443   ,   28.8398   ,\n",
       "         21.843475 ,   16.89966  ,   14.456098 ,   13.694468 ,\n",
       "         13.343578 ,   12.357578 ,   10.4717245,    8.220064 ,\n",
       "          6.307304 ], dtype=float32)"
      ]
     },
     "execution_count": 61,
     "metadata": {},
     "output_type": "execute_result"
    }
   ],
   "source": [
    "copy[5][0]"
   ]
  },
  {
   "cell_type": "code",
   "execution_count": 30,
   "metadata": {},
   "outputs": [],
   "source": [
    "f = pd.DataFrame();\n",
    "# f['mfcc1'] = [copy[i][0][0] for i in range(len(copy))]\n",
    "for i in range(0,nmfcc):\n",
    "    name = f'mfcc{i+1}';\n",
    "    f[name] = [copy[j][0][i] for j in range(len(copy))]\n",
    "    "
   ]
  },
  {
   "cell_type": "code",
   "execution_count": 31,
   "metadata": {},
   "outputs": [],
   "source": [
    "f['class'] = [copy[j][1] for j in range(len(copy))]"
   ]
  },
  {
   "cell_type": "code",
   "execution_count": 32,
   "metadata": {},
   "outputs": [
    {
     "data": {
      "text/html": [
       "<div>\n",
       "<style scoped>\n",
       "    .dataframe tbody tr th:only-of-type {\n",
       "        vertical-align: middle;\n",
       "    }\n",
       "\n",
       "    .dataframe tbody tr th {\n",
       "        vertical-align: top;\n",
       "    }\n",
       "\n",
       "    .dataframe thead th {\n",
       "        text-align: right;\n",
       "    }\n",
       "</style>\n",
       "<table border=\"1\" class=\"dataframe\">\n",
       "  <thead>\n",
       "    <tr style=\"text-align: right;\">\n",
       "      <th></th>\n",
       "      <th>mfcc1</th>\n",
       "      <th>mfcc2</th>\n",
       "      <th>mfcc3</th>\n",
       "      <th>mfcc4</th>\n",
       "      <th>mfcc5</th>\n",
       "      <th>mfcc6</th>\n",
       "      <th>mfcc7</th>\n",
       "      <th>mfcc8</th>\n",
       "      <th>mfcc9</th>\n",
       "      <th>mfcc10</th>\n",
       "      <th>...</th>\n",
       "      <th>mfcc36</th>\n",
       "      <th>mfcc37</th>\n",
       "      <th>mfcc38</th>\n",
       "      <th>mfcc39</th>\n",
       "      <th>mfcc40</th>\n",
       "      <th>mfcc41</th>\n",
       "      <th>mfcc42</th>\n",
       "      <th>mfcc43</th>\n",
       "      <th>mfcc44</th>\n",
       "      <th>class</th>\n",
       "    </tr>\n",
       "  </thead>\n",
       "  <tbody>\n",
       "    <tr>\n",
       "      <th>0</th>\n",
       "      <td>-607.152710</td>\n",
       "      <td>99.961823</td>\n",
       "      <td>71.781136</td>\n",
       "      <td>37.452549</td>\n",
       "      <td>9.167416</td>\n",
       "      <td>-5.547555</td>\n",
       "      <td>-6.563746</td>\n",
       "      <td>0.259729</td>\n",
       "      <td>7.338326</td>\n",
       "      <td>9.713492</td>\n",
       "      <td>...</td>\n",
       "      <td>-0.399147</td>\n",
       "      <td>0.497934</td>\n",
       "      <td>0.711749</td>\n",
       "      <td>0.140884</td>\n",
       "      <td>-0.718250</td>\n",
       "      <td>-1.195325</td>\n",
       "      <td>-0.961957</td>\n",
       "      <td>-0.248465</td>\n",
       "      <td>0.375406</td>\n",
       "      <td>-1</td>\n",
       "    </tr>\n",
       "    <tr>\n",
       "      <th>1</th>\n",
       "      <td>-624.910339</td>\n",
       "      <td>67.871445</td>\n",
       "      <td>48.849331</td>\n",
       "      <td>25.214125</td>\n",
       "      <td>4.995704</td>\n",
       "      <td>-6.431556</td>\n",
       "      <td>-8.260615</td>\n",
       "      <td>-3.706739</td>\n",
       "      <td>2.396928</td>\n",
       "      <td>6.321666</td>\n",
       "      <td>...</td>\n",
       "      <td>-0.268853</td>\n",
       "      <td>1.220195</td>\n",
       "      <td>2.200660</td>\n",
       "      <td>2.258664</td>\n",
       "      <td>1.467250</td>\n",
       "      <td>0.297811</td>\n",
       "      <td>-0.683975</td>\n",
       "      <td>-1.125649</td>\n",
       "      <td>-1.016732</td>\n",
       "      <td>-1</td>\n",
       "    </tr>\n",
       "    <tr>\n",
       "      <th>2</th>\n",
       "      <td>-625.437744</td>\n",
       "      <td>87.206978</td>\n",
       "      <td>63.245846</td>\n",
       "      <td>39.705479</td>\n",
       "      <td>19.438356</td>\n",
       "      <td>6.449983</td>\n",
       "      <td>1.742444</td>\n",
       "      <td>2.490077</td>\n",
       "      <td>4.602054</td>\n",
       "      <td>5.294236</td>\n",
       "      <td>...</td>\n",
       "      <td>-0.805587</td>\n",
       "      <td>-0.215861</td>\n",
       "      <td>0.150405</td>\n",
       "      <td>0.069161</td>\n",
       "      <td>-0.354144</td>\n",
       "      <td>-0.791502</td>\n",
       "      <td>-0.951948</td>\n",
       "      <td>-0.775817</td>\n",
       "      <td>-0.429483</td>\n",
       "      <td>-1</td>\n",
       "    </tr>\n",
       "    <tr>\n",
       "      <th>3</th>\n",
       "      <td>-593.229797</td>\n",
       "      <td>102.837334</td>\n",
       "      <td>69.983452</td>\n",
       "      <td>41.035599</td>\n",
       "      <td>17.314375</td>\n",
       "      <td>4.705166</td>\n",
       "      <td>2.982250</td>\n",
       "      <td>7.120717</td>\n",
       "      <td>10.608857</td>\n",
       "      <td>9.771062</td>\n",
       "      <td>...</td>\n",
       "      <td>-0.148094</td>\n",
       "      <td>1.209859</td>\n",
       "      <td>1.922578</td>\n",
       "      <td>1.686971</td>\n",
       "      <td>0.837375</td>\n",
       "      <td>0.036249</td>\n",
       "      <td>-0.226675</td>\n",
       "      <td>0.044155</td>\n",
       "      <td>0.452874</td>\n",
       "      <td>-1</td>\n",
       "    </tr>\n",
       "    <tr>\n",
       "      <th>4</th>\n",
       "      <td>-633.329590</td>\n",
       "      <td>65.965454</td>\n",
       "      <td>45.517960</td>\n",
       "      <td>25.440491</td>\n",
       "      <td>8.778637</td>\n",
       "      <td>0.681344</td>\n",
       "      <td>0.714600</td>\n",
       "      <td>5.214601</td>\n",
       "      <td>9.295459</td>\n",
       "      <td>9.969789</td>\n",
       "      <td>...</td>\n",
       "      <td>0.639629</td>\n",
       "      <td>0.998410</td>\n",
       "      <td>0.808071</td>\n",
       "      <td>0.182635</td>\n",
       "      <td>-0.454100</td>\n",
       "      <td>-0.691214</td>\n",
       "      <td>-0.426076</td>\n",
       "      <td>0.080167</td>\n",
       "      <td>0.422164</td>\n",
       "      <td>-1</td>\n",
       "    </tr>\n",
       "  </tbody>\n",
       "</table>\n",
       "<p>5 rows × 45 columns</p>\n",
       "</div>"
      ],
      "text/plain": [
       "        mfcc1       mfcc2      mfcc3      mfcc4      mfcc5     mfcc6  \\\n",
       "0 -607.152710   99.961823  71.781136  37.452549   9.167416 -5.547555   \n",
       "1 -624.910339   67.871445  48.849331  25.214125   4.995704 -6.431556   \n",
       "2 -625.437744   87.206978  63.245846  39.705479  19.438356  6.449983   \n",
       "3 -593.229797  102.837334  69.983452  41.035599  17.314375  4.705166   \n",
       "4 -633.329590   65.965454  45.517960  25.440491   8.778637  0.681344   \n",
       "\n",
       "      mfcc7     mfcc8      mfcc9    mfcc10  ...    mfcc36    mfcc37    mfcc38  \\\n",
       "0 -6.563746  0.259729   7.338326  9.713492  ... -0.399147  0.497934  0.711749   \n",
       "1 -8.260615 -3.706739   2.396928  6.321666  ... -0.268853  1.220195  2.200660   \n",
       "2  1.742444  2.490077   4.602054  5.294236  ... -0.805587 -0.215861  0.150405   \n",
       "3  2.982250  7.120717  10.608857  9.771062  ... -0.148094  1.209859  1.922578   \n",
       "4  0.714600  5.214601   9.295459  9.969789  ...  0.639629  0.998410  0.808071   \n",
       "\n",
       "     mfcc39    mfcc40    mfcc41    mfcc42    mfcc43    mfcc44  class  \n",
       "0  0.140884 -0.718250 -1.195325 -0.961957 -0.248465  0.375406     -1  \n",
       "1  2.258664  1.467250  0.297811 -0.683975 -1.125649 -1.016732     -1  \n",
       "2  0.069161 -0.354144 -0.791502 -0.951948 -0.775817 -0.429483     -1  \n",
       "3  1.686971  0.837375  0.036249 -0.226675  0.044155  0.452874     -1  \n",
       "4  0.182635 -0.454100 -0.691214 -0.426076  0.080167  0.422164     -1  \n",
       "\n",
       "[5 rows x 45 columns]"
      ]
     },
     "execution_count": 32,
     "metadata": {},
     "output_type": "execute_result"
    }
   ],
   "source": [
    "f.head(5)"
   ]
  },
  {
   "cell_type": "code",
   "execution_count": 33,
   "metadata": {},
   "outputs": [],
   "source": [
    "df.to_csv('../03_Extractig the Features/Extracted_features/ExtractedFeaturesChroma/training-a_hp.csv', index = False)"
   ]
  },
  {
   "cell_type": "code",
   "execution_count": null,
   "metadata": {},
   "outputs": [],
   "source": []
  }
 ],
 "metadata": {
  "kernelspec": {
   "display_name": "Python 3 (ipykernel)",
   "language": "python",
   "name": "python3"
  },
  "language_info": {
   "codemirror_mode": {
    "name": "ipython",
    "version": 3
   },
   "file_extension": ".py",
   "mimetype": "text/x-python",
   "name": "python",
   "nbconvert_exporter": "python",
   "pygments_lexer": "ipython3",
   "version": "3.10.8 (tags/v3.10.8:aaaf517, Oct 11 2022, 16:50:30) [MSC v.1933 64 bit (AMD64)]"
  },
  "vscode": {
   "interpreter": {
    "hash": "6a52940d0a9b5e622512011e58686428140e3ed2fe0e3361038b9a81a619c6d4"
   }
  }
 },
 "nbformat": 4,
 "nbformat_minor": 2
}
